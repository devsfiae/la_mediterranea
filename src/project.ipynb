{
 "cells": [
  {
   "cell_type": "markdown",
   "metadata": {},
   "source": [
    "# Typenumwandlungen\n",
    "\n",
    "## markdown zu PDF"
   ]
  },
  {
   "cell_type": "code",
   "execution_count": null,
   "metadata": {},
   "outputs": [],
   "source": [
    "# Python-Script zum Konvertieren von Markdown in PDF\n",
    "\n",
    "import markdown2\n",
    "import pdfkit\n",
    "\n",
    "# Lesen Sie die Markdown-Datei\n",
    "with open(\"../README.md\", \"r\", encoding='utf-8') as file:\n",
    "    markdown_text = file.read()\n",
    "\n",
    "# Konvertieren Sie Markdown in HTML\n",
    "html_text = markdown2.markdown(markdown_text)\n",
    "\n",
    "# Konfigurieren Sie pdfkit, um UTF-8 zu verwenden\n",
    "options = {\n",
    "    'encoding': 'UTF-8',\n",
    "}\n",
    "\n",
    "# Konvertieren Sie HTML in PDF\n",
    "pdfkit.from_string(html_text, \"../doc/projektdokumentation.pdf\", options=options)\n"
   ]
  },
  {
   "cell_type": "markdown",
   "metadata": {},
   "source": [
    "## markdown zu PowerPoint (.pptx)"
   ]
  },
  {
   "cell_type": "code",
   "execution_count": 2,
   "metadata": {},
   "outputs": [],
   "source": [
    "import markdown\n",
    "from pptx import Presentation\n",
    "from pptx.util import Inches, Pt\n",
    "from io import StringIO\n",
    "import re\n",
    "\n",
    "# Lesen Sie die Markdown-Datei\n",
    "with open(\"../README.md\", \"r\", encoding='utf-8') as file:\n",
    "    markdown_text = file.read()\n",
    "\n",
    "# Erstellen Sie eine neue Präsentation\n",
    "prs = Presentation()\n",
    "\n",
    "# Teilen Sie den Markdown-Text in Abschnitte auf, die mit Überschriften beginnen\n",
    "sections = re.split(r'\\n# ', markdown_text)\n",
    "\n",
    "for section in sections:\n",
    "    # Teilen Sie den Abschnitt in Titel und Inhalt auf\n",
    "    title_text, *content_text = section.split('\\n', 1)\n",
    "    content_text = '\\n'.join(content_text)\n",
    "\n",
    "    # Fügen Sie eine Folie mit einem Titel und Inhalt hinzu\n",
    "    slide_layout = prs.slide_layouts[1]\n",
    "    slide = prs.slides.add_slide(slide_layout)\n",
    "\n",
    "    # Definieren Sie den Titel und den Inhalt der Folie\n",
    "    title = slide.shapes.title\n",
    "    content = slide.placeholders[1]\n",
    "\n",
    "    # Fügen Sie den Text in den Titel und den Inhalt der Folie ein\n",
    "    title.text = title_text\n",
    "    content.text = content_text\n",
    "\n",
    "# Speichern Sie die Präsentation\n",
    "prs.save('../doc/projektdokumentation.pptx')\n"
   ]
  }
 ],
 "metadata": {
  "kernelspec": {
   "display_name": "Python 3",
   "language": "python",
   "name": "python3"
  },
  "language_info": {
   "codemirror_mode": {
    "name": "ipython",
    "version": 3
   },
   "file_extension": ".py",
   "mimetype": "text/x-python",
   "name": "python",
   "nbconvert_exporter": "python",
   "pygments_lexer": "ipython3",
   "version": "3.12.4"
  }
 },
 "nbformat": 4,
 "nbformat_minor": 2
}
